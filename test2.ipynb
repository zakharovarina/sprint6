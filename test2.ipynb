import pandas as pd
import streamlit as st
import plotly.express as px
import numpy as np

data = pd.read_csv("vehicles_us.csv")

data["paint_color"] = data["paint_color"].fillna("other")
data["is_4wd"] = data["is_4wd"].replace(1, "Yes")
data["is_4wd"] = data["is_4wd"].fillna(value="No")
data["model_year"] = pd.to_numeric(data["model_year"], errors="coerce")
data["model_year"] = data["model_year"].fillna(
    data.groupby("model")["model_year"].transform("median")
)
data["cylinders"] = (
    data["cylinders"]
    .fillna(data.groupby(["model", "model_year"])["cylinders"].transform("mean"))
    .round()
)
data["cylinders"] = pd.to_numeric(data["cylinders"], errors="coerce")
data["cylinders"] = data["cylinders"].fillna(
    data.groupby(["model", "model_year"])["cylinders"].transform("mean")
)
data = data.dropna(subset=["cylinders"])
data["odometer"] = pd.to_numeric(data["odometer"], errors="coerce")
data["odometer"] = data["odometer"].fillna(
    data.groupby(["model", "model_year", "type", "condition"])["odometer"].transform(
        "median"
    )
)
pd.options.mode.chained_assignment = None
data["odometer"] = data["odometer"].fillna(
    data.groupby("model_year")["odometer"].transform("mean")
)
data = data.drop(index=45694)
data = data.drop(data[data["price"] == 1].index, axis=0, errors="raise")

st.title(":red[Choose your car!]")
st.header(
    "Use this app to investigate different parameters of cars on the US market",
)


import urllib.request
from PIL import Image

urllib.request.urlretrieve(
    "https://images.bauerhosting.com/legacy/empire-tmdb/films/920/images/a1MlbLBk5Sy6YvMbSuKfwGlDVlb.jpg?ar=16%3A9&fit=crop&crop=top&auto=format&w=1440&q=80",
    "gfg.png",
)

img = Image.open("gfg.png")

st.image(img)

st.subheader(":red[Choose your parameters:]")


price_range = st.slider("Price range:", value=(3, 375000))
st.markdown("Recommendation: lower the upper value to filter out outliers")

actual_range = list(range(price_range[0], price_range[1] + 1))

excellent = st.checkbox("Only excellent condition")


trans = st.selectbox("Choose transmission", ("all", "automatic", "manual"))

if trans == "all":
    if excellent:
        filtered_data = data[data.price.isin(actual_range)]
        filtered_data = filtered_data[filtered_data["condition"] == "excellent"]
    else:
        filtered_data = data[data.price.isin(actual_range)]
else:
    if excellent:
        filtered_data = data[data.price.isin(actual_range)]
        filtered_data = filtered_data[
            (filtered_data["condition"] == "excellent")
            & (filtered_data["transmission"] == trans)
        ]
    else:
        filtered_data = data[
            (data.price.isin(actual_range)) & (data["transmission"] == trans)
        ]


st.write("Here are your options with a split by price and model year")

fig = px.scatter(
    filtered_data, title="Model year's influence on price", x="price", y="model_year"
)
st.plotly_chart(fig)

fig2 = px.scatter(
    filtered_data, title="Prices acccording to condition", x="price", y="condition"
)
st.plotly_chart(fig2)

# Histogram showing the average price by color
fig3 = px.histogram(
    filtered_data,
    title="Average price by color",
    x="paint_color",
    y="price",
    histfunc="avg",
)
st.plotly_chart(fig3)

fig4 = px.histogram(
    filtered_data,
    title="Distribution of distance travelled by these cars",
    x="odometer",
)
st.plotly_chart(fig4)

data_grouped = (
    data.groupby['is_4wd']['index'].count().rename('count').to_frame()
)
fig5 = px.line(
    filtered_data,
    x="model_year",
    color="is_4wd",
)

st.line_chart(fig5)


st.write("Here is the list of recommended cars")
st.dataframe(filtered_data.sample(40))
